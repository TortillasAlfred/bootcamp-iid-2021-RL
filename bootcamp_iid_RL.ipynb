{
 "cells": [
  {
   "cell_type": "markdown",
   "metadata": {},
   "source": [
    "On commence par importer les librairies nécessaires."
   ]
  },
  {
   "cell_type": "code",
   "execution_count": 1,
   "metadata": {
    "tags": []
   },
   "outputs": [],
   "source": [
    "import numpy as np\n",
    "import random\n",
    "import gym\n",
    "import torch\n",
    "import torch.nn as nn\n",
    "import torch.nn.functional as F\n",
    "from torch.optim import Adam\n",
    "from torch.distributions import Categorical\n",
    "from copy import deepcopy\n",
    "from matplotlib import pyplot as plt"
   ]
  },
  {
   "cell_type": "markdown",
   "metadata": {},
   "source": [
    "On crée notre environnement d'entraînement CartPole-v1 avec Gym."
   ]
  },
  {
   "cell_type": "code",
   "execution_count": 2,
   "metadata": {},
   "outputs": [],
   "source": [
    "env = gym.make(\"CartPole-v1\")"
   ]
  },
  {
   "cell_type": "markdown",
   "metadata": {},
   "source": [
    "L'interface de Gym est assez élégante. Voici un exemple utilisant seulement une politique aléatoire, donc très sous-optimale."
   ]
  },
  {
   "cell_type": "code",
   "execution_count": 3,
   "metadata": {},
   "outputs": [
    {
     "name": "stdout",
     "output_type": "stream",
     "text": [
      "Finished after a total reward of 18.0\n"
     ]
    }
   ],
   "source": [
    "s = env.reset() # Appel à mu_0\n",
    "done = False\n",
    "rewards = 0\n",
    "\n",
    "while not done: # On va boucler tant que la trajectoire n'est pas finie\n",
    "    env.render() # Appel pour ajouter une image au vidéo\n",
    "    a = env.action_space.sample() # Pour l'instant on prend une action aléatoire\n",
    "    \n",
    "    # On appelle step(a) pour faire progresser l'environnement.\n",
    "    # Ça retourne le prochain état, le reward et si la trajectoire est terminée.\n",
    "    next_s, r, done, _ = env.step(a)\n",
    "    \n",
    "    s = next_s\n",
    "    rewards += r\n",
    "    \n",
    "print(f\"Finished after a total reward of {rewards}\")\n",
    "env.close()"
   ]
  },
  {
   "cell_type": "markdown",
   "metadata": {},
   "source": [
    "On ajoute une fonction intermédiaire pour la reproductibilité de nos expériences. On fixe les germes aléatoires de l'environnement est des librairies numpy et torch."
   ]
  },
  {
   "cell_type": "code",
   "execution_count": 4,
   "metadata": {},
   "outputs": [],
   "source": [
    "def set_random_seed(environment, seed=42):\n",
    "    environment.seed(seed)\n",
    "    environment.action_space.seed(seed)\n",
    "    np.random.seed(seed)\n",
    "    torch.manual_seed(seed)\n",
    "    random.seed(seed)"
   ]
  },
  {
   "cell_type": "markdown",
   "metadata": {},
   "source": [
    "C'est bien beau une politique aléatoire, mais ce qu'on veut, c'est apprendre à faire tenir le poteau sur le chariot ! \n",
    "\n",
    "On utilise donc un réseau de neurones qui pourra prendre en entrée un état et retournera un vecteur de la taille de l'espace d'actions. \n",
    "\n",
    "Pourquoi retourner une valeur pour chaque action ? \n",
    " - Quand on veut apprendre une politique, on voudra prédire une _distribution_ sur les actions possibles.\n",
    " - Quand on veut apprendre une Q function, on voudra prédire la _valeur espérée_ de chaque (s, a) pour un état en entrée. "
   ]
  },
  {
   "cell_type": "code",
   "execution_count": 5,
   "metadata": {},
   "outputs": [
    {
     "name": "stdout",
     "output_type": "stream",
     "text": [
      "NeuralNet(\n",
      "  (first_layer): Linear(in_features=4, out_features=128, bias=True)\n",
      "  (activation): ReLU()\n",
      "  (dropout): Dropout(p=0.6, inplace=False)\n",
      "  (output): Linear(in_features=128, out_features=2, bias=True)\n",
      ")\n"
     ]
    },
    {
     "data": {
      "text/plain": [
       "tensor([0.7690, 0.4107], device='cuda:0', grad_fn=<AddBackward0>)"
      ]
     },
     "execution_count": 5,
     "metadata": {},
     "output_type": "execute_result"
    }
   ],
   "source": [
    "class NeuralNet(nn.Module):\n",
    "    def __init__(self, environment, hidden_size=128):\n",
    "        super().__init__()\n",
    "        # On utilise directement observation_space et action_space pour \n",
    "        # bâtir notre réseau de neurones.\n",
    "        self.first_layer = nn.Linear(environment.observation_space.shape[0], hidden_size)\n",
    "        self.activation = nn.ReLU()\n",
    "        self.dropout = nn.Dropout(0.6)\n",
    "        self.output = nn.Linear(hidden_size, environment.action_space.n)\n",
    "    \n",
    "    def forward(self, x):\n",
    "        x = self.first_layer(x)\n",
    "        x = self.dropout(x)\n",
    "        x = self.activation(x)\n",
    "        return self.output(x)\n",
    "    \n",
    "net = NeuralNet(env)\n",
    "print(net)\n",
    "\n",
    "device = torch.device(\"cuda\" if torch.cuda.is_available() else \"cpu\")\n",
    "net = net.to(device)\n",
    "\n",
    "# Example d'appel\n",
    "s = env.reset()\n",
    "s = torch.from_numpy(s).float().to(device)\n",
    "net(s)"
   ]
  },
  {
   "cell_type": "markdown",
   "metadata": {},
   "source": [
    "Comme notre réseau de neurones n'est pas entraîné, il produit encore des actions aléatoires, mais on peut tout de même l'utiliser avec notre environnement."
   ]
  },
  {
   "cell_type": "code",
   "execution_count": 6,
   "metadata": {},
   "outputs": [
    {
     "name": "stdout",
     "output_type": "stream",
     "text": [
      "Finished after a total reward of 16.0\n"
     ]
    }
   ],
   "source": [
    "# On met ça dans une fonction pour plus tard !\n",
    "def run_with_net(net):\n",
    "    set_random_seed(env)\n",
    "    s = env.reset() # Appel à mu_0\n",
    "    s = torch.from_numpy(s).float().to(device) # NOUVEAU : utilisation de PyTorch\n",
    "    done = False\n",
    "    rewards = 0\n",
    "\n",
    "    while not done: # On va boucler tant que la trajectoire n'est pas finie\n",
    "        env.render() # Appel pour ajouter une image au vidéo\n",
    "\n",
    "        # NOUVEAU: Production de l'action par le réseau\n",
    "        out = net(s) # On produit le vecteur brut\n",
    "        a = out.argmax().item() # On sélectionne l'action avec la plus grande probabilité\n",
    "\n",
    "        # On appelle step(a) pour faire progresser l'environnement.\n",
    "        # Ça retourne le prochain état, le reward et si la trajectoire est terminée.\n",
    "        next_s, r, done, _ = env.step(a)\n",
    "\n",
    "        # NOUVEAU : utilisation de PyTorch\n",
    "        s = torch.from_numpy(next_s).float().to(device)\n",
    "        rewards += r\n",
    "\n",
    "    print(f\"Finished after a total reward of {rewards}\")\n",
    "    env.close()\n",
    "    \n",
    "run_with_net(net)"
   ]
  },
  {
   "cell_type": "markdown",
   "metadata": {
    "tags": []
   },
   "source": [
    "On a maintenant tout ce qu'il nous faut pour tester nos algorithmes, pas besoin de rien de plus !"
   ]
  },
  {
   "cell_type": "markdown",
   "metadata": {},
   "source": [
    "# Premier algorithme: REINFORCE\n",
    "\n",
    "REINFORCE est un algorithme de gradient de politique, qui fonctionne comme suit:\n",
    "\n",
    "1. On génère une trajectoire complète, sans aucune mise à jour de gradient.\n",
    "2. Quand la trajectoire est terminée, on calcule la somme pondérée des récompenses G_t à partir de chaque état.\n",
    "3. Pour chaque état de la trajectoire, on récolte aussi log_proba_t, la log_proba de l'action prise.\n",
    "4. On utilise la moyenne des -G_t * log_proba_t comme perte. Le - est parce qu'on fait une _ascension_.\n",
    "5. On répète jusqu'à convergence.\n",
    "\n",
    "Par défaut, on va vouloir gérer le compromis exploration-exploitation en _pigeant_ de notre distribution ici."
   ]
  },
  {
   "cell_type": "code",
   "execution_count": 7,
   "metadata": {
    "scrolled": true,
    "tags": []
   },
   "outputs": [
    {
     "name": "stdout",
     "output_type": "stream",
     "text": [
      "After 10 trajectories, we have G_0 = 8.00\n",
      "After 20 trajectories, we have G_0 = 10.00\n",
      "After 30 trajectories, we have G_0 = 44.00\n",
      "After 40 trajectories, we have G_0 = 47.00\n",
      "After 50 trajectories, we have G_0 = 53.00\n",
      "After 60 trajectories, we have G_0 = 28.00\n",
      "After 70 trajectories, we have G_0 = 73.00\n",
      "After 80 trajectories, we have G_0 = 82.00\n",
      "After 90 trajectories, we have G_0 = 46.00\n",
      "After 100 trajectories, we have G_0 = 38.00\n",
      "After 110 trajectories, we have G_0 = 116.00\n",
      "After 120 trajectories, we have G_0 = 66.00\n",
      "After 130 trajectories, we have G_0 = 30.00\n",
      "After 140 trajectories, we have G_0 = 29.00\n",
      "After 150 trajectories, we have G_0 = 57.00\n",
      "After 160 trajectories, we have G_0 = 135.00\n",
      "After 170 trajectories, we have G_0 = 103.00\n",
      "After 180 trajectories, we have G_0 = 97.00\n",
      "After 190 trajectories, we have G_0 = 97.00\n",
      "After 200 trajectories, we have G_0 = 246.00\n"
     ]
    }
   ],
   "source": [
    "# On commence par se définir une fonction utilitaire pour calculer les G_t\n",
    "def extract_cumulated_rewards(rewards, gamma):\n",
    "    '''\n",
    "    Takes as input a list of rewards and a gamma discount factor and returns the list of cumulated discounted rewards.\n",
    "\n",
    "    The first item in the returned list is G_0 = r_0 + gamma * r_1 + gamma^2 * r_2 + ... + gamma^T * r_T.\n",
    "    '''\n",
    "    returns = []\n",
    "    G = 0\n",
    "\n",
    "    # On parcoure de t=T à 0\n",
    "    for r in reversed(rewards):\n",
    "        G = gamma * G + r\n",
    "        returns.append(G)\n",
    "\n",
    "    # On réinverse pour avoir G_0, G_1, ..., G_T\n",
    "    return list(reversed(returns))\n",
    "\n",
    "\n",
    "def reinforce(gamma=0.9, learning_rate=5e-3, n_trajectories=200):\n",
    "    set_random_seed(env)\n",
    "    net = NeuralNet(env)\n",
    "    net = net.to(device)\n",
    "    optim = Adam(net.parameters(), lr=learning_rate)\n",
    "\n",
    "    all_G_0 = []\n",
    "    for i in range(n_trajectories):\n",
    "        # On va devoir accumuler les états, les actions, les rewards et les log_proba\n",
    "        # pour tous les steps t de la trajectoire.\n",
    "        visited_states = []\n",
    "        actions_taken = []\n",
    "        rewards = []\n",
    "        log_probas = []\n",
    "        # On collecte la durée des episodes juste pour le output.\n",
    "        G_0 = 0.0\n",
    "        \n",
    "        s = env.reset()\n",
    "        s = torch.from_numpy(s).float().to(device)\n",
    "        done = False\n",
    "        \n",
    "        while not done:\n",
    "            logits = net(s) # On produit le vecteur brut\n",
    "            action_probas = F.softmax(logits, dim=-1) # On transforme en distribution de probabilité\n",
    "            m = Categorical(action_probas)\n",
    "            a = m.sample() # On pige selon la distribution\n",
    "            next_s, r, done, _ = env.step(a.item())\n",
    "            G_0 += r\n",
    "\n",
    "            # Storage\n",
    "            visited_states.append(s)\n",
    "            actions_taken.append(a)\n",
    "            rewards.append(r)\n",
    "            log_probas.append(m.log_prob(a))\n",
    "\n",
    "            s = torch.from_numpy(next_s).float().to(device)\n",
    "\n",
    "        # On calcule et entrepose les G_t\n",
    "        g_t = extract_cumulated_rewards(rewards, gamma)\n",
    "        all_G_0.append(G_0)\n",
    "\n",
    "        # Calcul de la perte\n",
    "        g_t = torch.FloatTensor(g_t).to(device)\n",
    "        log_probas = torch.stack(log_probas)\n",
    "        \n",
    "        optim.zero_grad()\n",
    "        loss = (g_t * -log_probas).sum()\n",
    "        loss.backward()\n",
    "        optim.step()\n",
    "        \n",
    "        if (i + 1) % 10 == 0 :\n",
    "            print(f\"After {i + 1} trajectories, we have G_0 = {G_0:.2f}\")\n",
    "    \n",
    "    env.close()\n",
    "    \n",
    "    return net, all_G_0\n",
    "\n",
    "reinforce_net, reinforce_returns = reinforce()"
   ]
  },
  {
   "cell_type": "code",
   "execution_count": 8,
   "metadata": {
    "scrolled": true
   },
   "outputs": [
    {
     "name": "stdout",
     "output_type": "stream",
     "text": [
      "Finished after a total reward of 500.0\n"
     ]
    }
   ],
   "source": [
    "run_with_net(reinforce_net)"
   ]
  },
  {
   "cell_type": "markdown",
   "metadata": {},
   "source": [
    "REINFORCE souffre très clairement d'un problème de stabilité dans l'apprentissage si l'on se fie à notre exemple. Une manière généralement utilisée pour stabiliser l'algorithme est d'appliquer une _transformation blanchissante_ sur les G_t avant de calculer la perte.\n",
    "\n",
    "La transformation blanchissante consiste à soustraite la moyenne des G_t et à diviser par la déviation standard. Cet ajustement ramène les G_t à une moyenne de 0 et une déviation standard de 1 et ce, pour toutes les trajectoires."
   ]
  },
  {
   "cell_type": "code",
   "execution_count": 9,
   "metadata": {},
   "outputs": [
    {
     "name": "stdout",
     "output_type": "stream",
     "text": [
      "After 10 trajectories, we have G_0 = 9.00\n",
      "After 20 trajectories, we have G_0 = 10.00\n",
      "After 30 trajectories, we have G_0 = 43.00\n",
      "After 40 trajectories, we have G_0 = 34.00\n",
      "After 50 trajectories, we have G_0 = 24.00\n",
      "After 60 trajectories, we have G_0 = 18.00\n",
      "After 70 trajectories, we have G_0 = 98.00\n",
      "After 80 trajectories, we have G_0 = 50.00\n",
      "After 90 trajectories, we have G_0 = 50.00\n",
      "After 100 trajectories, we have G_0 = 75.00\n",
      "After 110 trajectories, we have G_0 = 34.00\n",
      "After 120 trajectories, we have G_0 = 69.00\n",
      "After 130 trajectories, we have G_0 = 366.00\n",
      "After 140 trajectories, we have G_0 = 212.00\n",
      "After 150 trajectories, we have G_0 = 288.00\n",
      "After 160 trajectories, we have G_0 = 161.00\n",
      "After 170 trajectories, we have G_0 = 244.00\n",
      "After 180 trajectories, we have G_0 = 152.00\n",
      "After 190 trajectories, we have G_0 = 266.00\n",
      "After 200 trajectories, we have G_0 = 500.00\n"
     ]
    }
   ],
   "source": [
    "def reinforce_normalized(gamma=0.9, learning_rate=5e-3, n_trajectories=200):\n",
    "    set_random_seed(env)\n",
    "    net = NeuralNet(env)\n",
    "    net = net.to(device)\n",
    "    optim = Adam(net.parameters(), lr=learning_rate)\n",
    "\n",
    "    all_G_0 = []\n",
    "    for i in range(n_trajectories):\n",
    "        # On va devoir accumuler les états, les actions, les rewards et les log_proba\n",
    "        # pour tous les steps t de la trajectoire.\n",
    "        visited_states = []\n",
    "        actions_taken = []\n",
    "        rewards = []\n",
    "        log_probas = []\n",
    "        # On collecte la durée des épisodes, juste pour le output.\n",
    "        G_0 = 0.0\n",
    "        \n",
    "        s = env.reset()\n",
    "        s = torch.from_numpy(s).float().to(device)\n",
    "        done = False\n",
    "        \n",
    "        while not done:\n",
    "            logits = net(s) # On produit le vecteur brut\n",
    "            action_probas = F.softmax(logits, dim=-1) # On transforme en distribution de probabilité\n",
    "            m = Categorical(action_probas)\n",
    "            a = m.sample() # On pige selon la distribution\n",
    "            next_s, r, done, _ = env.step(a.item())\n",
    "            G_0 += r\n",
    "\n",
    "            # Storage\n",
    "            visited_states.append(s)\n",
    "            actions_taken.append(a)\n",
    "            rewards.append(r)\n",
    "            log_probas.append(m.log_prob(a))\n",
    "\n",
    "            s = torch.from_numpy(next_s).float().to(device)\n",
    "\n",
    "        # On calcule et entrepose les G_t\n",
    "        g_t = extract_cumulated_rewards(rewards, gamma)\n",
    "        all_G_0.append(G_0)\n",
    "\n",
    "        # Calcul de la perte\n",
    "        g_t = torch.FloatTensor(g_t).to(device)\n",
    "        # NOUVEAUTÉ : On soustraie la moyenne et divise par le déviation standard\n",
    "        g_t = (g_t - g_t.mean()) / (g_t.std() + np.finfo(np.float32).eps.item())\n",
    "        log_probas = torch.stack(log_probas)\n",
    "        \n",
    "        optim.zero_grad()\n",
    "        loss = (g_t * -log_probas).sum()\n",
    "        loss.backward()\n",
    "        optim.step()\n",
    "        \n",
    "        if (i + 1) % 10 == 0 :\n",
    "            print(f\"After {i + 1} trajectories, we have G_0 = {G_0:.2f}\")\n",
    "    \n",
    "    env.close()\n",
    "    \n",
    "    return net, all_G_0\n",
    "\n",
    "reinforce_normalized_net, reinforce_normalized_returns = reinforce_normalized()"
   ]
  },
  {
   "cell_type": "markdown",
   "metadata": {},
   "source": [
    "On visualise notre agent entraîné par REINFORCE pur :"
   ]
  },
  {
   "cell_type": "code",
   "execution_count": 10,
   "metadata": {},
   "outputs": [
    {
     "name": "stdout",
     "output_type": "stream",
     "text": [
      "Finished after a total reward of 500.0\n"
     ]
    }
   ],
   "source": [
    "run_with_net(reinforce_normalized_net)"
   ]
  },
  {
   "cell_type": "markdown",
   "metadata": {},
   "source": [
    "# Second algorithme: Deep Q-Network  (DQN)\n",
    "\n",
    "DQN est un algorithme par fonction de valeur, qui fonctionne comme suit:\n",
    "\n",
    "1. On entretient un _buffer_ de transitions (s, a, r, s'), d'une taille fixe, généralement assez grosse.\n",
    "2. Entre chaque pas de temps, on va faire une mise à jour des poids en pigeant une minibatch de notre buffer.\n",
    "3. La mise à jour sera faite selon l'équation de Bellman vue dans les diapos.\n",
    "\n",
    "Cette fois-ci, on va plutôt gérer le compromis exploration-exploitation avec une politique epsilon-greedy. Pour éventuellement permettre un apprentissage significatif, on va graduellement faire descendre le facteur epsilon utilisé en fonction du nombre de trajectoires effectuées."
   ]
  },
  {
   "cell_type": "code",
   "execution_count": 11,
   "metadata": {},
   "outputs": [
    {
     "name": "stdout",
     "output_type": "stream",
     "text": [
      "After 10 trajectories, we have G_0 = 20.00. 0.817\n",
      "After 20 trajectories, we have G_0 = 13.00. 0.668\n",
      "After 30 trajectories, we have G_0 = 12.00. 0.545\n",
      "After 40 trajectories, we have G_0 = 23.00. 0.446\n",
      "After 50 trajectories, we have G_0 = 17.00. 0.364\n",
      "After 60 trajectories, we have G_0 = 55.00. 0.298\n",
      "After 70 trajectories, we have G_0 = 51.00. 0.243\n",
      "After 80 trajectories, we have G_0 = 20.00. 0.199\n",
      "After 90 trajectories, we have G_0 = 92.00. 0.162\n",
      "After 100 trajectories, we have G_0 = 45.00. 0.133\n",
      "After 110 trajectories, we have G_0 = 57.00. 0.108\n",
      "After 120 trajectories, we have G_0 = 38.00. 0.089\n",
      "After 130 trajectories, we have G_0 = 36.00. 0.072\n",
      "After 140 trajectories, we have G_0 = 36.00. 0.059\n",
      "After 150 trajectories, we have G_0 = 114.00. 0.048\n",
      "After 160 trajectories, we have G_0 = 97.00. 0.039\n",
      "After 170 trajectories, we have G_0 = 41.00. 0.032\n",
      "After 180 trajectories, we have G_0 = 108.00. 0.026\n",
      "After 190 trajectories, we have G_0 = 13.00. 0.022\n",
      "After 200 trajectories, we have G_0 = 235.00. 0.018\n",
      "After 210 trajectories, we have G_0 = 142.00. 0.014\n",
      "After 220 trajectories, we have G_0 = 167.00. 0.012\n",
      "After 230 trajectories, we have G_0 = 196.00. 0.010\n",
      "After 240 trajectories, we have G_0 = 115.00. 0.010\n",
      "After 250 trajectories, we have G_0 = 126.00. 0.010\n",
      "After 260 trajectories, we have G_0 = 151.00. 0.010\n",
      "After 270 trajectories, we have G_0 = 211.00. 0.010\n",
      "After 280 trajectories, we have G_0 = 41.00. 0.010\n",
      "After 290 trajectories, we have G_0 = 126.00. 0.010\n",
      "After 300 trajectories, we have G_0 = 160.00. 0.010\n"
     ]
    }
   ],
   "source": [
    "class ReplayBuffer:\n",
    "    \"\"\"\n",
    "    Replay buffer object that stores elements up until a certain maximum size.\n",
    "    \"\"\"\n",
    "    def __init__(self, buffer_size):\n",
    "        \"\"\"\n",
    "        Init the buffer and store buffer_size property.\n",
    "        \"\"\"\n",
    "        self.__buffer_size = buffer_size\n",
    "        self.data = []\n",
    "\n",
    "    def store(self, element):\n",
    "        \"\"\"\n",
    "        Stores an element.\n",
    "\n",
    "        If the buffer is already full, pop the oldest element inside.\n",
    "        \"\"\"\n",
    "        # On ajoute toujours à droite de la liste\n",
    "        self.data.append(element)\n",
    "\n",
    "        # Si la liste est trop pleine, on supprime à gauche\n",
    "        if len(self.data) > self.__buffer_size:\n",
    "            del self.data[0]\n",
    "\n",
    "    def get_batch(self, batch_size):\n",
    "        \"\"\"\n",
    "        Randomly samples batch_size elements from the buffer.\n",
    "\n",
    "        Returns the list of sampled elements.\n",
    "        \"\"\"\n",
    "        return random.sample(self.data, batch_size)\n",
    "\n",
    "def dqn(gamma=0.9, learning_rate=1e-3, n_trajectories=300, \n",
    "        batch_size=128, buffer_size=50000, epsilon_decay=0.98, \n",
    "        epsilon_min=0.01):\n",
    "    set_random_seed(env)\n",
    "    net = NeuralNet(env)\n",
    "    net = net.to(device)\n",
    "    optim = Adam(net.parameters(), lr=learning_rate)\n",
    "    \n",
    "    # NOUVEAU: On crée le replay buffer et on initialise epsilon\n",
    "    replay_buffer = ReplayBuffer(buffer_size)\n",
    "    epsilon = 1.0\n",
    "    \n",
    "    all_G_0 = []\n",
    "    \n",
    "    for i in range(n_trajectories):\n",
    "        # NOUVEAU : On n'a plus besoin d'entreposer les infos d'une trajectoire\n",
    "        G = 0.0\n",
    "        \n",
    "        s = env.reset()\n",
    "        s = torch.from_numpy(s).float().to(device)\n",
    "        done = False\n",
    "        \n",
    "        while not done:\n",
    "            q_vals = net(s) # On produit les q valeurs\n",
    "            # NOUVEAU : Epsilon greedy\n",
    "            if np.random.rand() < epsilon:\n",
    "                a = env.action_space.sample() # Action aléatoire\n",
    "            else:\n",
    "                with torch.no_grad():\n",
    "                    a = q_vals.argmax().item()\n",
    "                \n",
    "            next_s, r, done, _ = env.step(a)\n",
    "            G += r # NOUVEAU\n",
    "            next_s = torch.from_numpy(next_s).float().to(device)\n",
    "\n",
    "            # Storage\n",
    "            replay_buffer.store((s, a, r, next_s, done))\n",
    "\n",
    "            s = next_s\n",
    "            \n",
    "            # NOUVEAU : Mise à jour DQN\n",
    "            if len(replay_buffer.data) > batch_size:\n",
    "                # On va chercher une batch dans le buffer\n",
    "                minibatch = replay_buffer.get_batch(batch_size)\n",
    "\n",
    "                # On passe tout ça en tenseur PyTorch\n",
    "                states = torch.vstack([x[0] for x in minibatch]).to(device)\n",
    "                actions_taken = torch.LongTensor([x[1] for x in minibatch]).to(device)\n",
    "                rewards = torch.FloatTensor([x[2] for x in minibatch]).to(device)\n",
    "                next_states = torch.vstack([x[3] for x in minibatch]).to(device)\n",
    "                terminal = torch.ByteTensor([x[4] for x in minibatch]).to(device)\n",
    "\n",
    "                # Les prédictions Q(s, a) sont obtenues via gather\n",
    "                q_vals_predicted = net(states)\n",
    "                q_preds = q_vals_predicted.gather(1, actions_taken.unsqueeze(-1)).squeeze()\n",
    "                \n",
    "                # Les cibles r + gamma * Q(s', a')\n",
    "                # IMPORTANT : On utilise detach() pour la prochaine action.\n",
    "                # On ne veut pas backpropper sur celle-ci parce qu'elle est \n",
    "                # potentiellement hors de notre jeu de données et pourrait nuire \n",
    "                # à la stabilité.\n",
    "                next_q_vals_predicted = net(next_states)\n",
    "                next_action_vals_predicted = next_q_vals_predicted.max(dim=-1)[0].detach()\n",
    "                targets = rewards + gamma * next_action_vals_predicted * (1 - terminal)\n",
    "                \n",
    "                optim.zero_grad()\n",
    "                # Perte Quadratique entre les deux côtés de l'équation de Bellman\n",
    "                loss = ((q_preds - targets) ** 2).sum()\n",
    "                loss.backward()\n",
    "                optim.step()\n",
    "        \n",
    "\n",
    "        # On entrepose les G_0\n",
    "        all_G_0.append(G)\n",
    "        \n",
    "        # Mise à jour de epsilon\n",
    "        epsilon = max(epsilon * epsilon_decay, epsilon_min)\n",
    "        \n",
    "        if (i + 1) % 10 == 0 :\n",
    "            print(f\"After {i + 1} trajectories, we have G_0 = {G:.2f}. {epsilon:.3f}\")\n",
    "    \n",
    "    env.close()\n",
    "    \n",
    "    return net, all_G_0\n",
    "\n",
    "dqn_net, dqn_returns = dqn()"
   ]
  },
  {
   "cell_type": "code",
   "execution_count": 12,
   "metadata": {},
   "outputs": [
    {
     "name": "stdout",
     "output_type": "stream",
     "text": [
      "Finished after a total reward of 120.0\n"
     ]
    }
   ],
   "source": [
    "run_with_net(dqn_net)"
   ]
  },
  {
   "cell_type": "markdown",
   "metadata": {},
   "source": [
    "Regardons de manière un peu plus rigoureuse comment nos algorithmes se comparent:"
   ]
  },
  {
   "cell_type": "code",
   "execution_count": 13,
   "metadata": {},
   "outputs": [
    {
     "data": {
      "image/png": "[encoded data removed]",
      "text/plain": [
       "<Figure size 432x288 with 1 Axes>"
      ]
     },
     "metadata": {
      "needs_background": "light"
     },
     "output_type": "display_data"
    }
   ],
   "source": [
    "plt.plot(dqn_returns, label=\"DQN\")\n",
    "plt.plot(reinforce_returns, label=\"REINFORCE\")\n",
    "plt.plot(reinforce_normalized_returns, label=\"REINFORCE_norm\")\n",
    "plt.legend()\n",
    "\n",
    "plt.xlim(0, 300)\n",
    "plt.ylim(0, 500)\n",
    "\n",
    "plt.suptitle(\"Durée des trajectoires selon le nombre de trajectoires effectuées\")\n",
    "plt.xlabel(\"Nombre de trajectoires effectuées\")\n",
    "plt.ylabel(\"Durée de la trajectoire\")\n",
    "\n",
    "plt.show()"
   ]
  },
  {
   "cell_type": "markdown",
   "metadata": {},
   "source": [
    "Donc, malgré un nombre de mises à jour des poids bien plus élevés que REINFORCE, DQN est aussi instable que REINFORCE sans normalisation et n'apprend pas plus vite.\n",
    "\n",
    "Intuitivement, c'est bien connu dans la littérature que CartPole est plus facile pour les algorithmes par gradient de politique que pour les algorithmes par fonction de valeur. Pourquoi à votre avis ? "
   ]
  },
  {
   "cell_type": "code",
   "execution_count": null,
   "metadata": {},
   "outputs": [],
   "source": []
  }
 ],
 "metadata": {
  "kernelspec": {
   "display_name": "Python 3.7.5 64-bit ('summ': venv)",
   "language": "python",
   "name": "python37564bitsummvenvd2e6e33927364fce942a1eafb3b176c6"
  },
  "language_info": {
   "codemirror_mode": {
    "name": "ipython",
    "version": 3
   },
   "file_extension": ".py",
   "mimetype": "text/x-python",
   "name": "python",
   "nbconvert_exporter": "python",
   "pygments_lexer": "ipython3",
   "version": "3.8.5"
  }
 },
 "nbformat": 4,
 "nbformat_minor": 2
}
